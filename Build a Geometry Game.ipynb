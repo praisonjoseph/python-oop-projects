{
 "cells": [
  {
   "cell_type": "code",
   "execution_count": 1,
   "metadata": {},
   "outputs": [],
   "source": [
    "    from random import randint\n",
    "     \n",
    "    class Point:\n",
    "     \n",
    "        def __init__(self, x, y):\n",
    "            self.x = x\n",
    "            self.y = y\n",
    "     \n",
    "        def falls_in_rectangle(self, rectangle):\n",
    "            if rectangle.point1.x < self.x < rectangle.point2.x \\\n",
    "                    and rectangle.point1.y < self.y < rectangle.point2.y:\n",
    "                return True\n",
    "            else:\n",
    "                return False\n",
    "     \n",
    "     \n",
    "    \n",
    "    "
   ]
  },
  {
   "cell_type": "code",
   "execution_count": 2,
   "metadata": {},
   "outputs": [],
   "source": [
    "class Rectangle:\n",
    "     \n",
    "        def __init__(self, point1, point2):\n",
    "            self.point1 = point1\n",
    "            self.point2 = point2\n",
    "     \n",
    "        def area(self):\n",
    "            return (self.point2.x - self.point1.x) * \\\n",
    "                   (self.point2.y - self.point1.y)\n",
    "     \n",
    "     \n",
    "\n",
    "        "
   ]
  },
  {
   "cell_type": "code",
   "execution_count": 3,
   "metadata": {},
   "outputs": [
    {
     "name": "stdout",
     "output_type": "stream",
     "text": [
      "Rectangle Coordinates:  8 , 5 and 10 , 12\n"
     ]
    },
    {
     "name": "stdin",
     "output_type": "stream",
     "text": [
      "Guess x:  11\n",
      "Guess y:  4\n",
      "Guess rectangle area:  5\n"
     ]
    },
    {
     "name": "stdout",
     "output_type": "stream",
     "text": [
      "Your point was inside rectangle:  False\n",
      "Your area was off by:  9.0\n"
     ]
    }
   ],
   "source": [
    "    # Create rectangle object\n",
    "    rectangle = Rectangle(Point(randint(0, 9), randint(0, 9)), \n",
    "                  Point(randint(10, 19), randint(10, 19)))\n",
    "     \n",
    "    # Print rectangle coordinates\n",
    "    print(\"Rectangle Coordinates: \",\n",
    "          rectangle.point1.x, \",\",\n",
    "          rectangle.point1.y, \"and\",\n",
    "          rectangle.point2.x, \",\",\n",
    "          rectangle.point2.y)\n",
    "     \n",
    "    # Get point and area from user\n",
    "    user_point = Point(float(input(\"Guess x: \")), float(input(\"Guess y: \")))\n",
    "    user_area = float(input(\"Guess rectangle area: \"))\n",
    "     \n",
    "    # Print out the game result\n",
    "    print(\"Your point was inside rectangle: \", user_point.falls_in_rectangle(rectangle))\n",
    "    print(\"Your area was off by: \", rectangle.area() - user_area)"
   ]
  }
 ],
 "metadata": {
  "kernelspec": {
   "display_name": "Python 3.7.7 64-bit ('base': conda)",
   "language": "python",
   "name": "python37764bitbaseconda89a8878f0ebf4ba396c638bc0bfcce90"
  },
  "language_info": {
   "codemirror_mode": {
    "name": "ipython",
    "version": 3
   },
   "file_extension": ".py",
   "mimetype": "text/x-python",
   "name": "python",
   "nbconvert_exporter": "python",
   "pygments_lexer": "ipython3",
   "version": "3.7.7"
  }
 },
 "nbformat": 4,
 "nbformat_minor": 4
}
